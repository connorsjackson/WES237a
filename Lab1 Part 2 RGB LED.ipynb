{
 "cells": [
  {
   "cell_type": "code",
   "execution_count": 1,
   "id": "5e44a877",
   "metadata": {},
   "outputs": [
    {
     "data": {
      "application/javascript": [
       "\n",
       "try {\n",
       "require(['notebook/js/codecell'], function(codecell) {\n",
       "  codecell.CodeCell.options_default.highlight_modes[\n",
       "      'magic_text/x-csrc'] = {'reg':[/^%%microblaze/]};\n",
       "  Jupyter.notebook.events.one('kernel_ready.Kernel', function(){\n",
       "      Jupyter.notebook.get_cells().map(function(cell){\n",
       "          if (cell.cell_type == 'code'){ cell.auto_highlight(); } }) ;\n",
       "  });\n",
       "});\n",
       "} catch (e) {};\n"
      ]
     },
     "metadata": {},
     "output_type": "display_data"
    },
    {
     "data": {
      "application/javascript": [
       "\n",
       "try {\n",
       "require(['notebook/js/codecell'], function(codecell) {\n",
       "  codecell.CodeCell.options_default.highlight_modes[\n",
       "      'magic_text/x-csrc'] = {'reg':[/^%%pybind11/]};\n",
       "  Jupyter.notebook.events.one('kernel_ready.Kernel', function(){\n",
       "      Jupyter.notebook.get_cells().map(function(cell){\n",
       "          if (cell.cell_type == 'code'){ cell.auto_highlight(); } }) ;\n",
       "  });\n",
       "});\n",
       "} catch (e) {};\n"
      ]
     },
     "metadata": {},
     "output_type": "display_data"
    }
   ],
   "source": [
    "#Now let's deal with the two RGBLEDs\n",
    "from pynq.overlays.base import BaseOverlay\n",
    "import pynq.lib.rgbled as rgbled\n",
    "import time\n",
    "base = BaseOverlay(\"base.bit\")"
   ]
  },
  {
   "cell_type": "code",
   "execution_count": 2,
   "id": "84f792b3",
   "metadata": {
    "scrolled": true
   },
   "outputs": [
    {
     "name": "stdout",
     "output_type": "stream",
     "text": [
      "Help on module pynq.lib.rgbled in pynq.lib:\n",
      "\n",
      "NAME\n",
      "    pynq.lib.rgbled\n",
      "\n",
      "DESCRIPTION\n",
      "    #   Copyright (c) 2016, Xilinx, Inc.\n",
      "    #   SPDX-License-Identifier: BSD-3-Clause\n",
      "\n",
      "CLASSES\n",
      "    builtins.object\n",
      "        RGBLED\n",
      "    \n",
      "    class RGBLED(builtins.object)\n",
      "     |  RGBLED(index, ip_name='rgbleds_gpio', start_index=inf)\n",
      "     |  \n",
      "     |  This class controls the onboard RGB LEDs.\n",
      "     |  \n",
      "     |  Attributes\n",
      "     |  ----------\n",
      "     |  index : int\n",
      "     |      The index of the RGB LED. Can be an arbitrary value.\n",
      "     |  _mmio : MMIO\n",
      "     |      Shared memory map for the RGBLED GPIO controller.\n",
      "     |  _rgbleds_val : int\n",
      "     |      Global value of the RGBLED GPIO pins.\n",
      "     |  _rgbleds_start_index : int\n",
      "     |      Global value representing the lowest index for RGB LEDs\n",
      "     |  \n",
      "     |  Methods defined here:\n",
      "     |  \n",
      "     |  __init__(self, index, ip_name='rgbleds_gpio', start_index=inf)\n",
      "     |      Create a new RGB LED object.\n",
      "     |      \n",
      "     |      Parameters\n",
      "     |      ----------\n",
      "     |      index : int\n",
      "     |          Index of the RGBLED, Can be an arbitrary value.\n",
      "     |          The smallest index given will set the global value\n",
      "     |          `_rgbleds_start_index`. This behavior can be overridden by defining\n",
      "     |          `start_index`.\n",
      "     |      ip_name : str\n",
      "     |          Name of the IP in  the `ip_dict`. Defaults to \"rgbleds_gpio\".\n",
      "     |      start_index : int\n",
      "     |          If defined, will be used to update the global value\n",
      "     |          `_rgbleds_start_index`.\n",
      "     |  \n",
      "     |  off(self)\n",
      "     |      Turn off a single RGBLED.\n",
      "     |      \n",
      "     |      Returns\n",
      "     |      -------\n",
      "     |      None\n",
      "     |  \n",
      "     |  on(self, color)\n",
      "     |      Turn on a single RGB LED with a color value (see color constants).\n",
      "     |      \n",
      "     |      Parameters\n",
      "     |      ----------\n",
      "     |      color : int\n",
      "     |         Color of RGB specified by a 3-bit RGB integer value.\n",
      "     |      \n",
      "     |      Returns\n",
      "     |      -------\n",
      "     |      None\n",
      "     |  \n",
      "     |  read(self)\n",
      "     |      Retrieve the RGBLED state.\n",
      "     |      \n",
      "     |      Returns\n",
      "     |      -------\n",
      "     |      int\n",
      "     |          The color value stored in the RGBLED.\n",
      "     |  \n",
      "     |  write(self, color)\n",
      "     |      Set the RGBLED state according to the input value.\n",
      "     |      \n",
      "     |      Parameters\n",
      "     |      ----------\n",
      "     |      color : int\n",
      "     |          Color of RGB specified by a 3-bit RGB integer value.\n",
      "     |      \n",
      "     |      Returns\n",
      "     |      -------\n",
      "     |      None\n",
      "     |  \n",
      "     |  ----------------------------------------------------------------------\n",
      "     |  Data descriptors defined here:\n",
      "     |  \n",
      "     |  __dict__\n",
      "     |      dictionary for instance variables (if defined)\n",
      "     |  \n",
      "     |  __weakref__\n",
      "     |      list of weak references to the object (if defined)\n",
      "\n",
      "DATA\n",
      "    RGBLEDS_XGPIO_OFFSET = 0\n",
      "    RGB_BLUE = 1\n",
      "    RGB_CLEAR = 0\n",
      "    RGB_CYAN = 3\n",
      "    RGB_GREEN = 2\n",
      "    RGB_MAGENTA = 5\n",
      "    RGB_RED = 4\n",
      "    RGB_WHITE = 7\n",
      "    RGB_YELLOW = 6\n",
      "\n",
      "FILE\n",
      "    /usr/local/share/pynq-venv/lib/python3.10/site-packages/pynq/lib/rgbled.py\n",
      "\n",
      "\n"
     ]
    }
   ],
   "source": [
    "help(rgbled)"
   ]
  },
  {
   "cell_type": "code",
   "execution_count": 4,
   "id": "691e11a8",
   "metadata": {},
   "outputs": [],
   "source": [
    "#Assign the rgbleds to a variable\n",
    "led4 = rgbled.RGBLED(4)\n",
    "led5 = rgbled.RGBLED(5)"
   ]
  },
  {
   "cell_type": "code",
   "execution_count": 10,
   "id": "d96bfaf0",
   "metadata": {},
   "outputs": [],
   "source": [
    "#RGBLEDs take a hex value for color\n",
    "led4.write(0x7)\n",
    "led5.write(0x4)"
   ]
  },
  {
   "cell_type": "code",
   "execution_count": 11,
   "id": "db9363ab",
   "metadata": {},
   "outputs": [],
   "source": [
    "#Turn off the RGBLEDs\n",
    "led4.write(0x0)\n",
    "led5.write(0x0)"
   ]
  },
  {
   "cell_type": "code",
   "execution_count": null,
   "id": "09b5c2c9",
   "metadata": {},
   "outputs": [],
   "source": []
  }
 ],
 "metadata": {
  "kernelspec": {
   "display_name": "Python 3 (ipykernel)",
   "language": "python",
   "name": "python3"
  },
  "language_info": {
   "codemirror_mode": {
    "name": "ipython",
    "version": 3
   },
   "file_extension": ".py",
   "mimetype": "text/x-python",
   "name": "python",
   "nbconvert_exporter": "python",
   "pygments_lexer": "ipython3",
   "version": "3.10.4"
  }
 },
 "nbformat": 4,
 "nbformat_minor": 5
}
