{
 "cells": [
  {
   "cell_type": "code",
   "execution_count": 1,
   "id": "cb4e7b87",
   "metadata": {},
   "outputs": [
    {
     "name": "stdout",
     "output_type": "stream",
     "text": [
      "Hello World\n"
     ]
    }
   ],
   "source": [
    "print(\"Hello World\")"
   ]
  },
  {
   "cell_type": "code",
   "execution_count": 2,
   "id": "4e51c6e8",
   "metadata": {},
   "outputs": [
    {
     "data": {
      "application/javascript": [
       "\n",
       "try {\n",
       "require(['notebook/js/codecell'], function(codecell) {\n",
       "  codecell.CodeCell.options_default.highlight_modes[\n",
       "      'magic_text/x-csrc'] = {'reg':[/^%%microblaze/]};\n",
       "  Jupyter.notebook.events.one('kernel_ready.Kernel', function(){\n",
       "      Jupyter.notebook.get_cells().map(function(cell){\n",
       "          if (cell.cell_type == 'code'){ cell.auto_highlight(); } }) ;\n",
       "  });\n",
       "});\n",
       "} catch (e) {};\n"
      ]
     },
     "metadata": {},
     "output_type": "display_data"
    },
    {
     "data": {
      "application/javascript": [
       "\n",
       "try {\n",
       "require(['notebook/js/codecell'], function(codecell) {\n",
       "  codecell.CodeCell.options_default.highlight_modes[\n",
       "      'magic_text/x-csrc'] = {'reg':[/^%%pybind11/]};\n",
       "  Jupyter.notebook.events.one('kernel_ready.Kernel', function(){\n",
       "      Jupyter.notebook.get_cells().map(function(cell){\n",
       "          if (cell.cell_type == 'code'){ cell.auto_highlight(); } }) ;\n",
       "  });\n",
       "});\n",
       "} catch (e) {};\n"
      ]
     },
     "metadata": {},
     "output_type": "display_data"
    }
   ],
   "source": [
    "#import the base overlay, rgbleds, and leds\n",
    "from pynq.overlays.base import BaseOverlay\n",
    "import time\n",
    "base = BaseOverlay(\"base.bit\")"
   ]
  },
  {
   "cell_type": "code",
   "execution_count": 3,
   "id": "1639bbe6",
   "metadata": {
    "scrolled": false
   },
   "outputs": [
    {
     "name": "stdout",
     "output_type": "stream",
     "text": [
      "Help on BaseOverlay in module pynq.overlays.base.base:\n",
      "\n",
      "<pynq.overlays.base.base.BaseOverlay object>\n",
      "    Default documentation for overlay base.bit. The following\n",
      "    attributes are available on this overlay:\n",
      "    \n",
      "    IP Blocks\n",
      "    ----------\n",
      "    switches_gpio        : pynq.lib.axigpio.AxiGPIO\n",
      "    btns_gpio            : pynq.lib.axigpio.AxiGPIO\n",
      "    video/hdmi_in/frontend/axi_gpio_hdmiin : pynq.lib.axigpio.AxiGPIO\n",
      "    video/hdmi_out/frontend/hdmi_out_hpd_video : pynq.lib.axigpio.AxiGPIO\n",
      "    rgbleds_gpio         : pynq.lib.axigpio.AxiGPIO\n",
      "    leds_gpio            : pynq.lib.axigpio.AxiGPIO\n",
      "    system_interrupts    : pynq.overlay.DefaultIP\n",
      "    video/axi_vdma       : pynq.lib.video.dma.AxiVDMA\n",
      "    audio_codec_ctrl_0   : pynq.lib.audio.AudioADAU1761\n",
      "    video/hdmi_out/frontend/axi_dynclk : pynq.overlay.DefaultIP\n",
      "    video/hdmi_out/frontend/vtc_out : pynq.overlay.DefaultIP\n",
      "    video/hdmi_in/frontend/vtc_in : pynq.overlay.DefaultIP\n",
      "    video/hdmi_in/pixel_pack : pynq.lib.video.pipeline.PixelPacker\n",
      "    video/hdmi_in/color_convert : pynq.lib.video.pipeline.ColorConverter\n",
      "    video/hdmi_out/color_convert : pynq.lib.video.pipeline.ColorConverter\n",
      "    video/hdmi_out/pixel_unpack : pynq.lib.video.pipeline.PixelPacker\n",
      "    trace_analyzer_pmodb/axi_dma_0 : pynq.lib.dma.DMA\n",
      "    trace_analyzer_pi/axi_dma_0 : pynq.lib.dma.DMA\n",
      "    trace_analyzer_pi/trace_cntrl_64_0 : pynq.overlay.DefaultIP\n",
      "    trace_analyzer_pmodb/trace_cntrl_32_0 : pynq.overlay.DefaultIP\n",
      "    ps7_0                : pynq.overlay.DefaultIP\n",
      "    \n",
      "    Hierarchies\n",
      "    -----------\n",
      "    iop_arduino          : pynq.lib.pynqmicroblaze.pynqmicroblaze.MicroblazeHierarchy\n",
      "    iop_pmoda            : pynq.lib.pynqmicroblaze.pynqmicroblaze.MicroblazeHierarchy\n",
      "    iop_pmodb            : pynq.lib.pynqmicroblaze.pynqmicroblaze.MicroblazeHierarchy\n",
      "    iop_rpi              : pynq.lib.pynqmicroblaze.pynqmicroblaze.MicroblazeHierarchy\n",
      "    trace_analyzer_pi    : pynq.overlay.DefaultHierarchy\n",
      "    trace_analyzer_pmodb : pynq.overlay.DefaultHierarchy\n",
      "    video                : pynq.lib.video.hierarchies.HDMIWrapper\n",
      "    video/hdmi_in        : pynq.lib.video.hierarchies.VideoIn\n",
      "    video/hdmi_in/frontend : pynq.lib.video.dvi.HDMIInFrontend\n",
      "    video/hdmi_out       : pynq.lib.video.hierarchies.VideoOut\n",
      "    video/hdmi_out/frontend : pynq.lib.video.dvi.HDMIOutFrontend\n",
      "    \n",
      "    Interrupts\n",
      "    ----------\n",
      "    None\n",
      "    \n",
      "    GPIO Outputs\n",
      "    ------------\n",
      "    None\n",
      "    \n",
      "    Memories\n",
      "    ------------\n",
      "    iop_pmodamb_bram_ctrl : Memory\n",
      "    iop_pmodbmb_bram_ctrl : Memory\n",
      "    iop_arduinomb_bram_ctrl : Memory\n",
      "    iop_rpimb_bram_ctrl  : Memory\n",
      "    PSDDR                : Memory\n",
      "\n"
     ]
    }
   ],
   "source": [
    "help(base)"
   ]
  },
  {
   "cell_type": "code",
   "execution_count": 8,
   "id": "205ef98b",
   "metadata": {},
   "outputs": [],
   "source": [
    "led0 = base.leds[0]\n",
    "led0.on()\n",
    "time.sleep(2)\n",
    "led0.off()"
   ]
  },
  {
   "cell_type": "code",
   "execution_count": null,
   "id": "bb079c22",
   "metadata": {},
   "outputs": [],
   "source": []
  }
 ],
 "metadata": {
  "kernelspec": {
   "display_name": "Python 3 (ipykernel)",
   "language": "python",
   "name": "python3"
  },
  "language_info": {
   "codemirror_mode": {
    "name": "ipython",
    "version": 3
   },
   "file_extension": ".py",
   "mimetype": "text/x-python",
   "name": "python",
   "nbconvert_exporter": "python",
   "pygments_lexer": "ipython3",
   "version": "3.10.4"
  }
 },
 "nbformat": 4,
 "nbformat_minor": 5
}
